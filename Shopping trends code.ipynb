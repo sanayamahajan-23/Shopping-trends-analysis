{
 "cells": [
  {
   "cell_type": "markdown",
   "metadata": {},
   "source": [
    "# Customer Data Overview\n",
    "\n",
    "![Gif 1](https://i.imgur.com/KhDDHls.gif)  \n",
    "![Gif 2](https://i.imgur.com/Ffjv44w.gif)\n"
   ]
  },
  {
   "cell_type": "markdown",
   "metadata": {},
   "source": [
    "<div style=\"color: white; border-radius: 5px; background-color: #123456; font-size: 16px; font-family: Verdana; padding: 10px;\">\n",
    "\n",
    "<ul style=\"list-style-type: none; padding-left: 0;\">\n",
    "  <li>📌 <b>Customer ID</b> - Unique identifier for each customer.</li>\n",
    "  <li>📌 <b>Age</b> - Age of the customer.</li>\n",
    "  <li>📌 <b>Gender</b> - Gender of the customer (Male/Female).</li>\n",
    "  <li>📌 <b>Item Purchased</b> - The item purchased by the customer.</li>\n",
    "  <li>📌 <b>Category</b> - Category of the item purchased.</li>\n",
    "  <li>📌 <b>Purchase Amount (USD)</b> - The amount of the purchase in USD.</li>\n",
    "  <li>📌 <b>Location</b> - Location where the purchase was made.</li>\n",
    "  <li>📌 <b>Size</b> - Size of the purchased item.</li>\n",
    "  <li>📌 <b>Color</b> - Color of the purchased item.</li>\n",
    "  <li>📌 <b>Season</b> - Season during which the purchase was made.</li>\n",
    "  <li>📌 <b>Review Rating</b> - Rating given by the customer for the purchased item.</li>\n",
    "  <li>📌 <b>Subscription Status</b> - Indicates if the customer has a subscription (Yes/No).</li>\n",
    "  <li>📌 <b>Shipping Type</b> - Type of shipping chosen by the customer.</li>\n",
    "  <li>📌 <b>Discount Applied</b> - Indicates if a discount was applied to the purchase (Yes/No).</li>\n",
    "  <li>📌 <b>Promo Code Used</b> - Indicates if a promo code was used for the purchase (Yes/No).</li>\n",
    "  <li>📌 <b>Previous Purchases</b> - Number of previous purchases made by the customer.</li>\n",
    "  <li>📌 <b>Payment Method</b> - Customer's most preferred payment method.</li>\n",
    "  <li>📌 <b>Frequency of Purchases</b> - Frequency at which the customer makes purchases (e.g., Weekly, Fortnightly, Monthly).</li>\n",
    "</ul>\n",
    "\n",
    "</div>\n"
   ]
  },
  {
   "cell_type": "code",
   "execution_count": 1,
   "metadata": {},
   "outputs": [
    {
     "name": "stdout",
     "output_type": "stream",
     "text": [
      "Collecting WordCloud\n",
      "  Downloading wordcloud-1.9.4-cp312-cp312-win_amd64.whl.metadata (3.5 kB)\n",
      "Requirement already satisfied: numpy>=1.6.1 in c:\\users\\hp\\anaconda3\\lib\\site-packages (from WordCloud) (1.26.4)\n",
      "Requirement already satisfied: pillow in c:\\users\\hp\\anaconda3\\lib\\site-packages (from WordCloud) (10.4.0)\n",
      "Requirement already satisfied: matplotlib in c:\\users\\hp\\anaconda3\\lib\\site-packages (from WordCloud) (3.9.2)\n",
      "Requirement already satisfied: contourpy>=1.0.1 in c:\\users\\hp\\anaconda3\\lib\\site-packages (from matplotlib->WordCloud) (1.2.0)\n",
      "Requirement already satisfied: cycler>=0.10 in c:\\users\\hp\\anaconda3\\lib\\site-packages (from matplotlib->WordCloud) (0.11.0)\n",
      "Requirement already satisfied: fonttools>=4.22.0 in c:\\users\\hp\\anaconda3\\lib\\site-packages (from matplotlib->WordCloud) (4.51.0)\n",
      "Requirement already satisfied: kiwisolver>=1.3.1 in c:\\users\\hp\\anaconda3\\lib\\site-packages (from matplotlib->WordCloud) (1.4.4)\n",
      "Requirement already satisfied: packaging>=20.0 in c:\\users\\hp\\appdata\\roaming\\python\\python312\\site-packages (from matplotlib->WordCloud) (24.2)\n",
      "Requirement already satisfied: pyparsing>=2.3.1 in c:\\users\\hp\\anaconda3\\lib\\site-packages (from matplotlib->WordCloud) (3.1.2)\n",
      "Requirement already satisfied: python-dateutil>=2.7 in c:\\users\\hp\\appdata\\roaming\\python\\python312\\site-packages (from matplotlib->WordCloud) (2.9.0.post0)\n",
      "Requirement already satisfied: six>=1.5 in c:\\users\\hp\\appdata\\roaming\\python\\python312\\site-packages (from python-dateutil>=2.7->matplotlib->WordCloud) (1.17.0)\n",
      "Downloading wordcloud-1.9.4-cp312-cp312-win_amd64.whl (301 kB)\n",
      "Installing collected packages: WordCloud\n",
      "Successfully installed WordCloud-1.9.4\n"
     ]
    }
   ],
   "source": [
    "!pip install WordCloud\n"
   ]
  },
  {
   "cell_type": "code",
   "execution_count": 2,
   "metadata": {},
   "outputs": [],
   "source": [
    "import numpy as np  \n",
    "import pandas as pd \n",
    "import seaborn as sns \n",
    "import matplotlib.pyplot as plt \n",
    "import plotly.express as px "
   ]
  }
 ],
 "metadata": {
  "kernelspec": {
   "display_name": "base",
   "language": "python",
   "name": "python3"
  },
  "language_info": {
   "codemirror_mode": {
    "name": "ipython",
    "version": 3
   },
   "file_extension": ".py",
   "mimetype": "text/x-python",
   "name": "python",
   "nbconvert_exporter": "python",
   "pygments_lexer": "ipython3",
   "version": "3.12.7"
  }
 },
 "nbformat": 4,
 "nbformat_minor": 2
}
